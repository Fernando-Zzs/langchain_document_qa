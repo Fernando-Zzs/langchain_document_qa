{
 "cells": [
  {
   "cell_type": "code",
   "execution_count": 1,
   "metadata": {},
   "outputs": [],
   "source": [
    "import os\n",
    "import glob\n",
    "import json\n",
    "\n",
    "from langchain_community.document_transformers import DoctranQATransformer\n",
    "from langchain_core.documents import Document\n",
    "from dotenv import load_dotenv\n",
    "from PyPDF2 import PdfReader\n",
    "from langchain.text_splitter import RecursiveCharacterTextSplitter\n",
    "from langchain.embeddings import OpenAIEmbeddings, HuggingFaceInstructEmbeddings\n",
    "from langchain.vectorstores import FAISS\n",
    "from langchain.chat_models import ChatOpenAI\n",
    "from langchain.memory import ConversationBufferMemory\n",
    "from langchain.chains import ConversationalRetrievalChain\n",
    "from langchain.llms import HuggingFaceHub\n",
    "from langchain_core.prompts import PromptTemplate"
   ]
  },
  {
   "cell_type": "code",
   "execution_count": 2,
   "metadata": {},
   "outputs": [
    {
     "data": {
      "text/plain": [
       "True"
      ]
     },
     "execution_count": 2,
     "metadata": {},
     "output_type": "execute_result"
    }
   ],
   "source": [
    "load_dotenv()"
   ]
  },
  {
   "cell_type": "code",
   "execution_count": 3,
   "metadata": {},
   "outputs": [],
   "source": [
    "embeddings = OpenAIEmbeddings()\n",
    "# embeddings = HuggingFaceInstructEmbeddings(model_name=\"hkunlp/instructor-xl\")"
   ]
  },
  {
   "cell_type": "markdown",
   "metadata": {},
   "source": [
    "## 获取pdf文档，分块并嵌入向量数据库"
   ]
  },
  {
   "cell_type": "code",
   "execution_count": 4,
   "metadata": {},
   "outputs": [],
   "source": [
    "def get_qa_format(sample_text):\n",
    "    documents = [Document(page_content=sample_text)]\n",
    "    qa_transformer = DoctranQATransformer()\n",
    "    return qa_transformer.transform_documents(documents)"
   ]
  },
  {
   "cell_type": "code",
   "execution_count": 5,
   "metadata": {},
   "outputs": [],
   "source": [
    "def get_pdf_text(file_path):\n",
    "    text = \"\"\n",
    "\n",
    "    if os.path.isdir(file_path):\n",
    "        file_path = os.path.join(file_path, '*.pdf')\n",
    "\n",
    "    pdf_files = glob.glob(file_path)\n",
    "    for pdf in pdf_files:\n",
    "        print('处理文件：' + pdf)\n",
    "        pdf_reader = PdfReader(pdf)\n",
    "        for page in pdf_reader.pages:\n",
    "            text += page.extract_text()\n",
    "    return text"
   ]
  },
  {
   "cell_type": "code",
   "execution_count": 42,
   "metadata": {},
   "outputs": [
    {
     "name": "stdout",
     "output_type": "stream",
     "text": [
      "处理文件：insurance/MyMillionMedical_en_new.pdf\n"
     ]
    }
   ],
   "source": [
    "sample_text = get_pdf_text(\"insurance/MyMillionMedical_en_new.pdf\")"
   ]
  },
  {
   "cell_type": "code",
   "execution_count": 39,
   "metadata": {},
   "outputs": [
    {
     "ename": "ValueError",
     "evalue": "Did not find openai_api_model, please add an environment variable `OPENAI_API_MODEL` which contains it, or pass `openai_api_model` as a named parameter.",
     "output_type": "error",
     "traceback": [
      "\u001b[0;31m---------------------------------------------------------------------------\u001b[0m",
      "\u001b[0;31mValueError\u001b[0m                                Traceback (most recent call last)",
      "Cell \u001b[0;32mIn[39], line 1\u001b[0m\n\u001b[0;32m----> 1\u001b[0m \u001b[43mget_qa_format\u001b[49m\u001b[43m(\u001b[49m\u001b[43msample_text\u001b[49m\u001b[38;5;241;43m=\u001b[39;49m\u001b[43msample_text\u001b[49m\u001b[43m)\u001b[49m\n",
      "Cell \u001b[0;32mIn[38], line 3\u001b[0m, in \u001b[0;36mget_qa_format\u001b[0;34m(sample_text)\u001b[0m\n\u001b[1;32m      1\u001b[0m \u001b[38;5;28;01mdef\u001b[39;00m \u001b[38;5;21mget_qa_format\u001b[39m(sample_text):\n\u001b[1;32m      2\u001b[0m     documents \u001b[38;5;241m=\u001b[39m [Document(page_content\u001b[38;5;241m=\u001b[39msample_text)]\n\u001b[0;32m----> 3\u001b[0m     qa_transformer \u001b[38;5;241m=\u001b[39m \u001b[43mDoctranQATransformer\u001b[49m\u001b[43m(\u001b[49m\u001b[43m)\u001b[49m\n\u001b[1;32m      4\u001b[0m     \u001b[38;5;28;01mreturn\u001b[39;00m qa_transformer\u001b[38;5;241m.\u001b[39mtransform_documents(documents)\n",
      "File \u001b[0;32m/opt/homebrew/lib/python3.11/site-packages/langchain_community/document_transformers/doctran_text_qa.py:32\u001b[0m, in \u001b[0;36mDoctranQATransformer.__init__\u001b[0;34m(self, openai_api_key, openai_api_model)\u001b[0m\n\u001b[1;32m     24\u001b[0m \u001b[38;5;28;01mdef\u001b[39;00m \u001b[38;5;21m__init__\u001b[39m(\n\u001b[1;32m     25\u001b[0m     \u001b[38;5;28mself\u001b[39m,\n\u001b[1;32m     26\u001b[0m     openai_api_key: Optional[\u001b[38;5;28mstr\u001b[39m] \u001b[38;5;241m=\u001b[39m \u001b[38;5;28;01mNone\u001b[39;00m,\n\u001b[1;32m     27\u001b[0m     openai_api_model: Optional[\u001b[38;5;28mstr\u001b[39m] \u001b[38;5;241m=\u001b[39m \u001b[38;5;28;01mNone\u001b[39;00m,\n\u001b[1;32m     28\u001b[0m ) \u001b[38;5;241m-\u001b[39m\u001b[38;5;241m>\u001b[39m \u001b[38;5;28;01mNone\u001b[39;00m:\n\u001b[1;32m     29\u001b[0m     \u001b[38;5;28mself\u001b[39m\u001b[38;5;241m.\u001b[39mopenai_api_key \u001b[38;5;241m=\u001b[39m openai_api_key \u001b[38;5;129;01mor\u001b[39;00m get_from_env(\n\u001b[1;32m     30\u001b[0m         \u001b[38;5;124m\"\u001b[39m\u001b[38;5;124mopenai_api_key\u001b[39m\u001b[38;5;124m\"\u001b[39m, \u001b[38;5;124m\"\u001b[39m\u001b[38;5;124mOPENAI_API_KEY\u001b[39m\u001b[38;5;124m\"\u001b[39m\n\u001b[1;32m     31\u001b[0m     )\n\u001b[0;32m---> 32\u001b[0m     \u001b[38;5;28mself\u001b[39m\u001b[38;5;241m.\u001b[39mopenai_api_model \u001b[38;5;241m=\u001b[39m openai_api_model \u001b[38;5;129;01mor\u001b[39;00m \u001b[43mget_from_env\u001b[49m\u001b[43m(\u001b[49m\n\u001b[1;32m     33\u001b[0m \u001b[43m        \u001b[49m\u001b[38;5;124;43m\"\u001b[39;49m\u001b[38;5;124;43mopenai_api_model\u001b[39;49m\u001b[38;5;124;43m\"\u001b[39;49m\u001b[43m,\u001b[49m\u001b[43m \u001b[49m\u001b[38;5;124;43m\"\u001b[39;49m\u001b[38;5;124;43mOPENAI_API_MODEL\u001b[39;49m\u001b[38;5;124;43m\"\u001b[39;49m\n\u001b[1;32m     34\u001b[0m \u001b[43m    \u001b[49m\u001b[43m)\u001b[49m\n",
      "File \u001b[0;32m/opt/homebrew/lib/python3.11/site-packages/langchain_core/utils/env.py:41\u001b[0m, in \u001b[0;36mget_from_env\u001b[0;34m(key, env_key, default)\u001b[0m\n\u001b[1;32m     39\u001b[0m     \u001b[38;5;28;01mreturn\u001b[39;00m default\n\u001b[1;32m     40\u001b[0m \u001b[38;5;28;01melse\u001b[39;00m:\n\u001b[0;32m---> 41\u001b[0m     \u001b[38;5;28;01mraise\u001b[39;00m \u001b[38;5;167;01mValueError\u001b[39;00m(\n\u001b[1;32m     42\u001b[0m         \u001b[38;5;124mf\u001b[39m\u001b[38;5;124m\"\u001b[39m\u001b[38;5;124mDid not find \u001b[39m\u001b[38;5;132;01m{\u001b[39;00mkey\u001b[38;5;132;01m}\u001b[39;00m\u001b[38;5;124m, please add an environment variable\u001b[39m\u001b[38;5;124m\"\u001b[39m\n\u001b[1;32m     43\u001b[0m         \u001b[38;5;124mf\u001b[39m\u001b[38;5;124m\"\u001b[39m\u001b[38;5;124m `\u001b[39m\u001b[38;5;132;01m{\u001b[39;00menv_key\u001b[38;5;132;01m}\u001b[39;00m\u001b[38;5;124m` which contains it, or pass\u001b[39m\u001b[38;5;124m\"\u001b[39m\n\u001b[1;32m     44\u001b[0m         \u001b[38;5;124mf\u001b[39m\u001b[38;5;124m\"\u001b[39m\u001b[38;5;124m `\u001b[39m\u001b[38;5;132;01m{\u001b[39;00mkey\u001b[38;5;132;01m}\u001b[39;00m\u001b[38;5;124m` as a named parameter.\u001b[39m\u001b[38;5;124m\"\u001b[39m\n\u001b[1;32m     45\u001b[0m     )\n",
      "\u001b[0;31mValueError\u001b[0m: Did not find openai_api_model, please add an environment variable `OPENAI_API_MODEL` which contains it, or pass `openai_api_model` as a named parameter."
     ]
    }
   ],
   "source": [
    "get_qa_format(sample_text=sample_text)"
   ]
  },
  {
   "cell_type": "code",
   "execution_count": 6,
   "metadata": {},
   "outputs": [],
   "source": [
    "def get_text_chunks(text):\n",
    "    text_splitter = RecursiveCharacterTextSplitter(\n",
    "        chunk_size=1000,\n",
    "        chunk_overlap=200,\n",
    "        length_function=len,\n",
    "        is_separator_regex=False,\n",
    "    )\n",
    "    chunks = text_splitter.split_text(text)\n",
    "    return chunks"
   ]
  },
  {
   "cell_type": "code",
   "execution_count": 7,
   "metadata": {},
   "outputs": [],
   "source": [
    "def get_vectorstore(text_chunks):\n",
    "    vectorstore = FAISS.from_texts(texts=text_chunks, embedding=embeddings)\n",
    "    return vectorstore"
   ]
  },
  {
   "cell_type": "code",
   "execution_count": 8,
   "metadata": {},
   "outputs": [
    {
     "name": "stdout",
     "output_type": "stream",
     "text": [
      "处理文件：insurance/BeEasy_pb_en_202306.pdf\n",
      "处理文件：insurance/vPrime_pb_en_202306.pdf\n",
      "处理文件：insurance/意輕鬆意外保障計劃_pb_tc_202306.pdf\n",
      "处理文件：insurance/尊衛您醫療計劃_pb_tc_202306.pdf\n",
      "处理文件：insurance/揀易保癌症保障計劃_econ-plan-brochure-tc_combined.pdf\n",
      "处理文件：insurance/CANsurance_econ-plan-brochure-en_Combined.pdf\n",
      "处理文件：insurance/全自主百萬醫療計劃_tc_new2.pdf\n",
      "处理文件：insurance/MyMillionMedical_en_new.pdf\n"
     ]
    }
   ],
   "source": [
    "raw_text = get_pdf_text('insurance')\n",
    "text_chunks = get_text_chunks(raw_text)\n",
    "vectorstore = get_vectorstore(text_chunks)\n",
    "vectorstore.save_local(\"faiss_index\")"
   ]
  },
  {
   "cell_type": "markdown",
   "metadata": {},
   "source": [
    "## 执行检索任务"
   ]
  },
  {
   "cell_type": "code",
   "execution_count": 9,
   "metadata": {},
   "outputs": [],
   "source": [
    "def get_conversation_chain(vectorstore):\n",
    "    llm = ChatOpenAI(temperature=0, model='gpt-3.5-turbo') # 用于生成答案，可以换成较好的模型\n",
    "    # llm = HuggingFaceHub(repo_id=\"google/flan-t5-xxl\", model_kwargs={\"temperature\":0.5, \"max_length\":512})\n",
    "\n",
    "    memory = ConversationBufferMemory(memory_key='chat_history', return_messages=True, output_key='answer')\n",
    "    conversation_chain = ConversationalRetrievalChain.from_llm(\n",
    "        llm=llm,\n",
    "        retriever=vectorstore.as_retriever(),\n",
    "        memory=memory,\n",
    "        return_source_documents=True,\n",
    "        condense_question_llm=llm, # 用于凝练问题，可以换成其他便宜的模型\n",
    "    )\n",
    "    return conversation_chain"
   ]
  },
  {
   "cell_type": "code",
   "execution_count": 10,
   "metadata": {},
   "outputs": [],
   "source": [
    "db = FAISS.load_local(\"faiss_index\", embeddings)\n",
    "conversation = get_conversation_chain(db)"
   ]
  },
  {
   "cell_type": "code",
   "execution_count": 11,
   "metadata": {},
   "outputs": [],
   "source": [
    "user_question = \"MyMillion Medical Plan, How many newborns are eligible to enjoy the designated medical plan?\"\n",
    "result = conversation({\"question\": user_question})"
   ]
  },
  {
   "cell_type": "code",
   "execution_count": 12,
   "metadata": {},
   "outputs": [],
   "source": [
    "follow_up_question = \"How much is the compassionate death benefit?\"\n",
    "result_2 = conversation({\"question\": follow_up_question})"
   ]
  },
  {
   "cell_type": "code",
   "execution_count": 13,
   "metadata": {},
   "outputs": [
    {
     "data": {
      "text/plain": [
       "{'question': 'How much is the compassionate death benefit?',\n",
       " 'chat_history': [HumanMessage(content='MyMillion Medical Plan, How many newborns are eligible to enjoy the designated medical plan?', additional_kwargs={}, example=False),\n",
       "  AIMessage(content='Each newborn is eligible to enjoy the designated medical plan coverage for 2 years at no extra cost once, but there is no limit to the number of eligible newborns who can benefit from this coverage.', additional_kwargs={}, example=False),\n",
       "  HumanMessage(content='How much is the compassionate death benefit?', additional_kwargs={}, example=False),\n",
       "  AIMessage(content='The amount of the compassionate death benefit is 1% of the Initial Sum Insured, which in this case is HK$1,000,000. Therefore, the compassionate death benefit amount would be HK$10,000.', additional_kwargs={}, example=False)],\n",
       " 'answer': 'The amount of the compassionate death benefit is 1% of the Initial Sum Insured, which in this case is HK$1,000,000. Therefore, the compassionate death benefit amount would be HK$10,000.',\n",
       " 'source_documents': [Document(page_content='if the Insured is \\nunder age 19 at\\nnext birthday\\non the date of\\nthe Accident)Bene/f_itsStandard SupremeMaximum Bene/f_it Amount\\n9StandardMaximum Bene/f_it Amount\\nSupremeWhat these plans cover\\nTable 1: Bene/f_it at-a-glance\\nCompassionate Death Bene/f_it 1% of the Initial Sum Insured\\n24-hour Worldwide Assistance Service 5 Service programBene/f_its\\n10Table of annual premiums\\nTable 2: Annual premiums of diﬀerent Occupational Class 7 at\\n diﬀerent Initial Sum Insured (Hong Kong resident) \\nInitial Sum Insured (HK$)\\nOccupational Class 7\\n1\\n2\\n3\\n4\\nInitial Sum Insured (HK$)\\nOccupational Class 7\\n1\\n2\\n3\\n4200,000 1,000,000 1,500,000\\n240 1,200 1,800\\n300 1,500 2,250\\n360 1,800 2,700\\n600 3,000 4,500\\n500,000 1,000,000 1,500,000\\n1,700 3,400 5,100\\n2,125 4,250 6,375\\n2,550 5,100 7,650\\n4,250 8,500 12,750\\nNote: \\n• The actual premium amount may vary from the above amounts subject to underwriting decision.', metadata={}),\n",
       "  Document(page_content='Unfortunately, Peter is badly injured in an earthquake while travelling on 30th January 2023 \\nand eventually dies in February 2023. The bene/f_iciary, Peter’s wife can receive the\\nfollowing amount as a /f_inancial back-up:Peter can receive the total amounts of eligible claims as follows:\\nAccidental Death and\\nDismemberment\\nBene/f_it 1• 100% of the Initial Sum Insured is payable for accidental death\\n• Since 20,000 had been paid for the Loss of Use of one toe and \\n200,000 had been paid for Scar due to Accident Bene/f_it 2,\\nFWD will pay the claims after deducting such amount\\n→ 1,000,000 x 100% - 20,000 – 200,000780,000\\nDouble Indemnity\\nBene/f_itThis bene/f_it is payable as the death is caused by being injured in \\nan earthquake780,000\\nCompassionate\\nDeath Bene/f_it1% of the Initial Sum Insured is payable\\n→ 1,000,000 x 1%10,000\\n1,570,000 TotalBene/f_it\\nAccidental Death and\\nDismemberment\\nBene/f_it 1Calculation of Claim (HK$) Claim Amount (HK$)', metadata={}),\n",
       "  Document(page_content='Table 1: Bene/f_it at-a-glance\\nBene/f_itsStandardMaximum Bene/f_it Amount\\nSupreme\\nAccidental Death and Dismemberment Bene/f_it 1\\n• A speci/f_ied percentage of the Initial Sum Insured is payable \\naccording to the Schedule of Bene/f_its. \\nScar due to Accident 2 Bene/f_it\\n• The Plan will pay a one-time payment of 20% of the Initial Sum \\nInsured as an advanced payment of the Accidental Death and \\nDismemberment Bene/f_it 1 if the Insured is diagnosed with having \\nscar due to an accident.Initial Sum Insured\\n20% of the Initial Sum Insured\\nInitial Sum InsuredDouble Indemnity Bene/f_it\\nThe amounts payable for Accidental Death and Dismemberment \\nBenefit 1 and Scar due to Accident 2 Benefit are doubled if the Insured \\nsustains an Accidental Injury under one of the following conditions:\\n(i) While the Insured is a fare-paying passenger on any public \\nconveyance licensed to carry passengers;\\n(ii) In a /f_ire in a public building including theatre, public auditorium,', metadata={}),\n",
       "  Document(page_content='Bene/f_it Calculation of Claim (HK$) Claim Amount (HK$)\\n16Important to know\\n1  The accidental death and dismemberment (please refer to the Schedule of Bene/f_its on page 12) must occur within \\n180 days from the date of Accident. FWD Life Insurance Company (Bermuda) Limited (incorporated in Bermuda with \\nlimited liability) (“FWD”) will pay the Accidental Death and Dismemberment Bene/f_it up to a maximum of 100% of the \\nInitial Sum Insured, regardless of the numbers of Accidental Injuries sustained by the Insured. The Plan will end once \\n100% of the Initial Sum Insured has been paid (when the Sum Insured Limit becomes zero). If a claim is payable at\\nan amount that is higher than the Sum Insured Limit, FWD will only pay the amount of the Sum Insured Limit. \\n2 For medical de/f_initions for Scar due to Accident, please refer to the Policy Provisions.\\n3  Per a comparison made on 28 February 2022 among the personal accident insurance plans of key insurers available', metadata={})]}"
      ]
     },
     "execution_count": 13,
     "metadata": {},
     "output_type": "execute_result"
    }
   ],
   "source": [
    "result_2"
   ]
  },
  {
   "cell_type": "code",
   "execution_count": 14,
   "metadata": {},
   "outputs": [
    {
     "data": {
      "text/plain": [
       "Document(page_content='if the Insured is \\nunder age 19 at\\nnext birthday\\non the date of\\nthe Accident)Bene/f_itsStandard SupremeMaximum Bene/f_it Amount\\n9StandardMaximum Bene/f_it Amount\\nSupremeWhat these plans cover\\nTable 1: Bene/f_it at-a-glance\\nCompassionate Death Bene/f_it 1% of the Initial Sum Insured\\n24-hour Worldwide Assistance Service 5 Service programBene/f_its\\n10Table of annual premiums\\nTable 2: Annual premiums of diﬀerent Occupational Class 7 at\\n diﬀerent Initial Sum Insured (Hong Kong resident) \\nInitial Sum Insured (HK$)\\nOccupational Class 7\\n1\\n2\\n3\\n4\\nInitial Sum Insured (HK$)\\nOccupational Class 7\\n1\\n2\\n3\\n4200,000 1,000,000 1,500,000\\n240 1,200 1,800\\n300 1,500 2,250\\n360 1,800 2,700\\n600 3,000 4,500\\n500,000 1,000,000 1,500,000\\n1,700 3,400 5,100\\n2,125 4,250 6,375\\n2,550 5,100 7,650\\n4,250 8,500 12,750\\nNote: \\n• The actual premium amount may vary from the above amounts subject to underwriting decision.', metadata={})"
      ]
     },
     "execution_count": 14,
     "metadata": {},
     "output_type": "execute_result"
    }
   ],
   "source": [
    "result_2['source_documents'][0]"
   ]
  },
  {
   "cell_type": "code",
   "execution_count": null,
   "metadata": {},
   "outputs": [],
   "source": []
  }
 ],
 "metadata": {
  "kernelspec": {
   "display_name": "Python 3",
   "language": "python",
   "name": "python3"
  },
  "language_info": {
   "codemirror_mode": {
    "name": "ipython",
    "version": 3
   },
   "file_extension": ".py",
   "mimetype": "text/x-python",
   "name": "python",
   "nbconvert_exporter": "python",
   "pygments_lexer": "ipython3",
   "version": "3.11.7"
  }
 },
 "nbformat": 4,
 "nbformat_minor": 2
}
